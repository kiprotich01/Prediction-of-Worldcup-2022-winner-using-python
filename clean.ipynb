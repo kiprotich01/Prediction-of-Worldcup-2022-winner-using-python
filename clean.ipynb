{
 "cells": [
  {
   "cell_type": "code",
   "execution_count": null,
   "id": "556cd574",
   "metadata": {},
   "outputs": [],
   "source": [
    "import pandas as pd\n",
    "\n",
    "df_historical_data = pd.read_csv('matches.csv')\n",
    "df_fixture = pd.read_csv('fixtures.csv')\n",
    "df_missing_data = pd.read_csv('missing.csv')\n",
    "\n",
    "# Cleaning df_fixture\n",
    "df_fixture['home'] = df_fixture['home'].str.strip()\n",
    "df_fixture['away'] = df_fixture['away'].str.strip()\n",
    "\n",
    "# Cleaning df_missing_data and adding it to df_historical_data\n",
    "#df_missing_data[df_missing_data['home'].isnull()]\n",
    "\n",
    "df_missing_data.dropna(inplace=True)\n",
    "df_historical_data = pd.concat([df_historical_data, df_missing_data], ignore_index=True)\n",
    "df_historical_data.drop_duplicates(inplace=True)\n",
    "df_historical_data.sort_values('year', inplace=True)\n",
    "df_historical_data"
   ]
  },
  {
   "cell_type": "code",
   "execution_count": null,
   "id": "07a66c58",
   "metadata": {},
   "outputs": [],
   "source": []
  }
 ],
 "metadata": {
  "kernelspec": {
   "display_name": "Python 3 (ipykernel)",
   "language": "python",
   "name": "python3"
  },
  "language_info": {
   "codemirror_mode": {
    "name": "ipython",
    "version": 3
   },
   "file_extension": ".py",
   "mimetype": "text/x-python",
   "name": "python",
   "nbconvert_exporter": "python",
   "pygments_lexer": "ipython3",
   "version": "3.9.12"
  }
 },
 "nbformat": 4,
 "nbformat_minor": 5
}
